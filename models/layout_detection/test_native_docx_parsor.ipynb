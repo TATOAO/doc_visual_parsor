{
 "cells": [
  {
   "cell_type": "code",
   "execution_count": 2,
   "metadata": {},
   "outputs": [],
   "source": [
    "from docx import Document\n",
    "\n",
    "doc = Document(\"../../tests/test_data/1-1 买卖合同（通用版）.docx\")\n",
    "\n",
    "paragraph_list = [paragraph for paragraph in doc.paragraphs]"
   ]
  },
  {
   "cell_type": "code",
   "execution_count": 8,
   "metadata": {},
   "outputs": [
    {
     "name": "stdout",
     "output_type": "stream",
     "text": [
      "'text': , 'style': _ParagraphStyle('Normal') id: 4443783664, 'font-size': <docx.text.paragraph.Paragraph object at 0x10925fb20>\n",
      "'text': 第一章  买卖合同, 'style': _ParagraphStyle('Normal') id: 4448452272, 'font-size': <docx.text.paragraph.Paragraph object at 0x10925ff70>\n",
      "'text': , 'style': _ParagraphStyle('Normal') id: 4443894352, 'font-size': <docx.text.paragraph.Paragraph object at 0x10925fd30>\n",
      "'text': 共计5个合同示范文本,分别是买卖合同（通用版）、设备采购合同、产品经销合同、集采零配件买卖合同、原材料采购合同。编制主要依据是《民法典》《最高人民法院关于审理买卖合同纠纷案件适用法律问题的解释》《最高人民法院关于适用<中华人民共和国民法典>合同编通则若干问题的解释》。, 'style': _ParagraphStyle('Normal') id: 4448452272, 'font-size': <docx.text.paragraph.Paragraph object at 0x10925fd00>\n",
      "'text': , 'style': _ParagraphStyle('Normal') id: 4443894352, 'font-size': <docx.text.paragraph.Paragraph object at 0x10925fa60>\n",
      "'text': , 'style': _ParagraphStyle('Normal') id: 4448452272, 'font-size': <docx.text.paragraph.Paragraph object at 0x10925fc70>\n",
      "'text': 第一节  买卖合同（通用版）, 'style': _ParagraphStyle('Normal') id: 4443894352, 'font-size': <docx.text.paragraph.Paragraph object at 0x10925f6d0>\n",
      "'text': , 'style': _ParagraphStyle('Normal') id: 4448452272, 'font-size': <docx.text.paragraph.Paragraph object at 0x10925fa00>\n",
      "'text': 一、定义, 'style': _ParagraphStyle('Normal') id: 4443894352, 'font-size': <docx.text.paragraph.Paragraph object at 0x10925fcd0>\n",
      "'text': 买卖合同是出卖人转移标的物的所有权于买受人，买受人支付价款的合同。买卖合同属于《民法典》合同编规定的典型合同。, 'style': _ParagraphStyle('Normal') id: 4448452272, 'font-size': <docx.text.paragraph.Paragraph object at 0x10925fc40>\n"
     ]
    }
   ],
   "source": [
    "for i in range(0, 10):\n",
    "    print(f\"'text': {paragraph_list[i].text}, 'style': {paragraph_list[i].style}, 'font-size': {paragraph_list[i]}\")"
   ]
  },
  {
   "cell_type": "code",
   "execution_count": 16,
   "metadata": {},
   "outputs": [],
   "source": [
    "p = paragraph_list[1]"
   ]
  },
  {
   "cell_type": "code",
   "execution_count": 17,
   "metadata": {},
   "outputs": [
    {
     "data": {
      "text/plain": [
       "'__class__,__delattr__,__dict__,__dir__,__doc__,__eq__,__format__,__ge__,__getattribute__,__gt__,__hash__,__init__,__init_subclass__,__le__,__lt__,__module__,__ne__,__new__,__reduce__,__reduce_ex__,__repr__,__setattr__,__sizeof__,__str__,__subclasshook__,__weakref__,_element,_insert_paragraph_before,_p,_parent,add_run,alignment,clear,contains_page_break,hyperlinks,insert_paragraph_before,iter_inner_content,paragraph_format,part,rendered_page_breaks,runs,style,text'"
      ]
     },
     "execution_count": 17,
     "metadata": {},
     "output_type": "execute_result"
    }
   ],
   "source": [
    "','.join(dir(p))"
   ]
  },
  {
   "cell_type": "code",
   "execution_count": 18,
   "metadata": {},
   "outputs": [
    {
     "data": {
      "text/plain": [
       "'第一章  买卖合同'"
      ]
     },
     "execution_count": 18,
     "metadata": {},
     "output_type": "execute_result"
    }
   ],
   "source": [
    "p.text"
   ]
  },
  {
   "cell_type": "code",
   "execution_count": 20,
   "metadata": {},
   "outputs": [
    {
     "name": "stdout",
     "output_type": "stream",
     "text": [
      "<docx.text.run.Run object at 0x1093599c0>\n",
      "<docx.text.run.Run object at 0x1093590f0>\n",
      "<docx.text.run.Run object at 0x109359180>\n"
     ]
    }
   ],
   "source": [
    "\n",
    "for run in p.runs:\n",
    "    print(run)"
   ]
  },
  {
   "cell_type": "code",
   "execution_count": 23,
   "metadata": {},
   "outputs": [
    {
     "data": {
      "text/plain": [
       "228600"
      ]
     },
     "execution_count": 23,
     "metadata": {},
     "output_type": "execute_result"
    }
   ],
   "source": [
    "run.font.size"
   ]
  },
  {
   "cell_type": "code",
   "execution_count": 24,
   "metadata": {},
   "outputs": [
    {
     "data": {
      "text/plain": [
       "True"
      ]
     },
     "execution_count": 24,
     "metadata": {},
     "output_type": "execute_result"
    }
   ],
   "source": [
    "run.font.bold"
   ]
  },
  {
   "cell_type": "code",
   "execution_count": null,
   "metadata": {},
   "outputs": [],
   "source": []
  }
 ],
 "metadata": {
  "kernelspec": {
   "display_name": ".venv",
   "language": "python",
   "name": "python3"
  },
  "language_info": {
   "codemirror_mode": {
    "name": "ipython",
    "version": 3
   },
   "file_extension": ".py",
   "mimetype": "text/x-python",
   "name": "python",
   "nbconvert_exporter": "python",
   "pygments_lexer": "ipython3",
   "version": "3.10.18"
  }
 },
 "nbformat": 4,
 "nbformat_minor": 2
}
