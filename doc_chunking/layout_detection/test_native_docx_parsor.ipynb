{
 "cells": [
  {
   "cell_type": "markdown",
   "metadata": {},
   "source": [
    "# Docx"
   ]
  },
  {
   "cell_type": "code",
   "execution_count": 2,
   "metadata": {},
   "outputs": [],
   "source": [
    "from docx import Document\n",
    "\n",
    "doc = Document(\"../../tests/test_data/1-1 买卖合同（通用版）.docx\")\n",
    "\n",
    "paragraph_list = [paragraph for paragraph in doc.paragraphs]"
   ]
  },
  {
   "cell_type": "code",
   "execution_count": 8,
   "metadata": {},
   "outputs": [
    {
     "name": "stdout",
     "output_type": "stream",
     "text": [
      "'text': , 'style': _ParagraphStyle('Normal') id: 4443783664, 'font-size': <docx.text.paragraph.Paragraph object at 0x10925fb20>\n",
      "'text': 第一章  买卖合同, 'style': _ParagraphStyle('Normal') id: 4448452272, 'font-size': <docx.text.paragraph.Paragraph object at 0x10925ff70>\n",
      "'text': , 'style': _ParagraphStyle('Normal') id: 4443894352, 'font-size': <docx.text.paragraph.Paragraph object at 0x10925fd30>\n",
      "'text': 共计5个合同示范文本,分别是买卖合同（通用版）、设备采购合同、产品经销合同、集采零配件买卖合同、原材料采购合同。编制主要依据是《民法典》《最高人民法院关于审理买卖合同纠纷案件适用法律问题的解释》《最高人民法院关于适用<中华人民共和国民法典>合同编通则若干问题的解释》。, 'style': _ParagraphStyle('Normal') id: 4448452272, 'font-size': <docx.text.paragraph.Paragraph object at 0x10925fd00>\n",
      "'text': , 'style': _ParagraphStyle('Normal') id: 4443894352, 'font-size': <docx.text.paragraph.Paragraph object at 0x10925fa60>\n",
      "'text': , 'style': _ParagraphStyle('Normal') id: 4448452272, 'font-size': <docx.text.paragraph.Paragraph object at 0x10925fc70>\n",
      "'text': 第一节  买卖合同（通用版）, 'style': _ParagraphStyle('Normal') id: 4443894352, 'font-size': <docx.text.paragraph.Paragraph object at 0x10925f6d0>\n",
      "'text': , 'style': _ParagraphStyle('Normal') id: 4448452272, 'font-size': <docx.text.paragraph.Paragraph object at 0x10925fa00>\n",
      "'text': 一、定义, 'style': _ParagraphStyle('Normal') id: 4443894352, 'font-size': <docx.text.paragraph.Paragraph object at 0x10925fcd0>\n",
      "'text': 买卖合同是出卖人转移标的物的所有权于买受人，买受人支付价款的合同。买卖合同属于《民法典》合同编规定的典型合同。, 'style': _ParagraphStyle('Normal') id: 4448452272, 'font-size': <docx.text.paragraph.Paragraph object at 0x10925fc40>\n"
     ]
    }
   ],
   "source": [
    "for i in range(0, 10):\n",
    "    print(f\"'text': {paragraph_list[i].text}, 'style': {paragraph_list[i].style}, 'font-size': {paragraph_list[i]}\")"
   ]
  },
  {
   "cell_type": "code",
   "execution_count": 16,
   "metadata": {},
   "outputs": [],
   "source": [
    "p = paragraph_list[1]"
   ]
  },
  {
   "cell_type": "code",
   "execution_count": 17,
   "metadata": {},
   "outputs": [
    {
     "data": {
      "text/plain": [
       "'__class__,__delattr__,__dict__,__dir__,__doc__,__eq__,__format__,__ge__,__getattribute__,__gt__,__hash__,__init__,__init_subclass__,__le__,__lt__,__module__,__ne__,__new__,__reduce__,__reduce_ex__,__repr__,__setattr__,__sizeof__,__str__,__subclasshook__,__weakref__,_element,_insert_paragraph_before,_p,_parent,add_run,alignment,clear,contains_page_break,hyperlinks,insert_paragraph_before,iter_inner_content,paragraph_format,part,rendered_page_breaks,runs,style,text'"
      ]
     },
     "execution_count": 17,
     "metadata": {},
     "output_type": "execute_result"
    }
   ],
   "source": [
    "','.join(dir(p))"
   ]
  },
  {
   "cell_type": "code",
   "execution_count": 18,
   "metadata": {},
   "outputs": [
    {
     "data": {
      "text/plain": [
       "'第一章  买卖合同'"
      ]
     },
     "execution_count": 18,
     "metadata": {},
     "output_type": "execute_result"
    }
   ],
   "source": [
    "p.text"
   ]
  },
  {
   "cell_type": "code",
   "execution_count": 20,
   "metadata": {},
   "outputs": [
    {
     "name": "stdout",
     "output_type": "stream",
     "text": [
      "<docx.text.run.Run object at 0x1093599c0>\n",
      "<docx.text.run.Run object at 0x1093590f0>\n",
      "<docx.text.run.Run object at 0x109359180>\n"
     ]
    }
   ],
   "source": [
    "\n",
    "for run in p.runs:\n",
    "    print(run)"
   ]
  },
  {
   "cell_type": "markdown",
   "metadata": {},
   "source": [
    "run.font.size"
   ]
  },
  {
   "cell_type": "code",
   "execution_count": 24,
   "metadata": {},
   "outputs": [
    {
     "data": {
      "text/plain": [
       "True"
      ]
     },
     "execution_count": 24,
     "metadata": {},
     "output_type": "execute_result"
    }
   ],
   "source": [
    "run.font.bold"
   ]
  },
  {
   "cell_type": "markdown",
   "metadata": {},
   "source": [
    "# PDF"
   ]
  },
  {
   "cell_type": "code",
   "execution_count": 7,
   "metadata": {},
   "outputs": [],
   "source": [
    "import fitz\n",
    "\n",
    "doc = fitz.open(\"../../tests/test_data/1-1 买卖合同（通用版）.pdf\")\n",
    "\n",
    "pages = [page for page in doc]\n",
    "\n"
   ]
  },
  {
   "cell_type": "code",
   "execution_count": 5,
   "metadata": {},
   "outputs": [
    {
     "data": {
      "text/plain": [
       "['__class__',\n",
       " '__delattr__',\n",
       " '__dict__',\n",
       " '__dir__',\n",
       " '__doc__',\n",
       " '__eq__',\n",
       " '__format__',\n",
       " '__ge__',\n",
       " '__getattribute__',\n",
       " '__gt__',\n",
       " '__hash__',\n",
       " '__init__',\n",
       " '__init_subclass__',\n",
       " '__le__',\n",
       " '__lt__',\n",
       " '__module__',\n",
       " '__ne__',\n",
       " '__new__',\n",
       " '__reduce__',\n",
       " '__reduce_ex__',\n",
       " '__repr__',\n",
       " '__setattr__',\n",
       " '__sizeof__',\n",
       " '__str__',\n",
       " '__subclasshook__',\n",
       " '__weakref__',\n",
       " '_addAnnot_FromString',\n",
       " '_addWidget',\n",
       " '_add_caret_annot',\n",
       " '_add_file_annot',\n",
       " '_add_freetext_annot',\n",
       " '_add_ink_annot',\n",
       " '_add_line_annot',\n",
       " '_add_multiline',\n",
       " '_add_redact_annot',\n",
       " '_add_square_or_circle',\n",
       " '_add_stamp_annot',\n",
       " '_add_text_annot',\n",
       " '_add_text_marker',\n",
       " '_annot_refs',\n",
       " '_apply_redactions',\n",
       " '_count_q_balance',\n",
       " '_erase',\n",
       " '_get_optional_content',\n",
       " '_get_resource_properties',\n",
       " '_get_textpage',\n",
       " '_insertFont',\n",
       " '_insert_image',\n",
       " '_load_annot',\n",
       " '_makePixmap',\n",
       " '_other_box',\n",
       " '_pdf_page',\n",
       " '_reset_annot_refs',\n",
       " '_set_opacity',\n",
       " '_set_pagebox',\n",
       " '_set_resource_property',\n",
       " '_show_pdf_page',\n",
       " 'add_caret_annot',\n",
       " 'add_circle_annot',\n",
       " 'add_file_annot',\n",
       " 'add_freetext_annot',\n",
       " 'add_highlight_annot',\n",
       " 'add_ink_annot',\n",
       " 'add_line_annot',\n",
       " 'add_polygon_annot',\n",
       " 'add_polyline_annot',\n",
       " 'add_rect_annot',\n",
       " 'add_redact_annot',\n",
       " 'add_squiggly_annot',\n",
       " 'add_stamp_annot',\n",
       " 'add_strikeout_annot',\n",
       " 'add_text_annot',\n",
       " 'add_underline_annot',\n",
       " 'add_widget',\n",
       " 'annot_names',\n",
       " 'annot_xrefs',\n",
       " 'annots',\n",
       " 'apply_redactions',\n",
       " 'artbox',\n",
       " 'bleedbox',\n",
       " 'bound',\n",
       " 'clean_contents',\n",
       " 'cluster_drawings',\n",
       " 'cropbox',\n",
       " 'cropbox_position',\n",
       " 'delete_annot',\n",
       " 'delete_image',\n",
       " 'delete_link',\n",
       " 'delete_widget',\n",
       " 'derotation_matrix',\n",
       " 'draw_bezier',\n",
       " 'draw_circle',\n",
       " 'draw_cont',\n",
       " 'draw_curve',\n",
       " 'draw_line',\n",
       " 'draw_oval',\n",
       " 'draw_polyline',\n",
       " 'draw_quad',\n",
       " 'draw_rect',\n",
       " 'draw_sector',\n",
       " 'draw_squiggle',\n",
       " 'draw_zigzag',\n",
       " 'extend_textpage',\n",
       " 'find_tables',\n",
       " 'first_annot',\n",
       " 'first_link',\n",
       " 'first_widget',\n",
       " 'get_bboxlog',\n",
       " 'get_cdrawings',\n",
       " 'get_contents',\n",
       " 'get_displaylist',\n",
       " 'get_drawings',\n",
       " 'get_fonts',\n",
       " 'get_image_bbox',\n",
       " 'get_image_info',\n",
       " 'get_image_rects',\n",
       " 'get_images',\n",
       " 'get_label',\n",
       " 'get_links',\n",
       " 'get_oc_items',\n",
       " 'get_pixmap',\n",
       " 'get_svg_image',\n",
       " 'get_text',\n",
       " 'get_text_blocks',\n",
       " 'get_text_selection',\n",
       " 'get_text_words',\n",
       " 'get_textbox',\n",
       " 'get_textpage',\n",
       " 'get_textpage_ocr',\n",
       " 'get_texttrace',\n",
       " 'get_xobjects',\n",
       " 'insert_font',\n",
       " 'insert_htmlbox',\n",
       " 'insert_image',\n",
       " 'insert_link',\n",
       " 'insert_text',\n",
       " 'insert_textbox',\n",
       " 'is_wrapped',\n",
       " 'language',\n",
       " 'last_point',\n",
       " 'links',\n",
       " 'load_annot',\n",
       " 'load_links',\n",
       " 'load_widget',\n",
       " 'mediabox',\n",
       " 'mediabox_size',\n",
       " 'new_shape',\n",
       " 'number',\n",
       " 'parent',\n",
       " 'read_contents',\n",
       " 'recolor',\n",
       " 'rect',\n",
       " 'refresh',\n",
       " 'remove_rotation',\n",
       " 'replace_image',\n",
       " 'rotation',\n",
       " 'rotation_matrix',\n",
       " 'run',\n",
       " 'search_for',\n",
       " 'set_artbox',\n",
       " 'set_bleedbox',\n",
       " 'set_contents',\n",
       " 'set_cropbox',\n",
       " 'set_language',\n",
       " 'set_mediabox',\n",
       " 'set_rotation',\n",
       " 'set_trimbox',\n",
       " 'show_pdf_page',\n",
       " 'this',\n",
       " 'thisown',\n",
       " 'transformation_matrix',\n",
       " 'trimbox',\n",
       " 'update_link',\n",
       " 'widgets',\n",
       " 'wrap_contents',\n",
       " 'write_text',\n",
       " 'xref']"
      ]
     },
     "execution_count": 5,
     "metadata": {},
     "output_type": "execute_result"
    }
   ],
   "source": [
    "dir(page)"
   ]
  },
  {
   "cell_type": "code",
   "execution_count": 25,
   "metadata": {},
   "outputs": [
    {
     "name": "stdout",
     "output_type": "stream",
     "text": [
      "Help on method get_contents in module pymupdf:\n",
      "\n",
      "get_contents() method of pymupdf.Page instance\n",
      "    Get xrefs of /Contents objects.\n",
      "\n"
     ]
    }
   ],
   "source": [
    "help(pages[17].get_dont"
   ]
  },
  {
   "cell_type": "code",
   "execution_count": 27,
   "metadata": {},
   "outputs": [
    {
     "data": {
      "text/plain": [
       "[(8, 'ttf', 'Type0', 'LNUHNF+SimSun', 'FT8', 'Identity-H')]"
      ]
     },
     "execution_count": 27,
     "metadata": {},
     "output_type": "execute_result"
    }
   ],
   "source": [
    "pages[17].get_fonts()"
   ]
  },
  {
   "cell_type": "code",
   "execution_count": null,
   "metadata": {},
   "outputs": [],
   "source": []
  },
  {
   "cell_type": "code",
   "execution_count": 12,
   "metadata": {},
   "outputs": [
    {
     "name": "stdout",
     "output_type": "stream",
     "text": [
      "{'number': 0, 'type': 0, 'bbox': (114.0, 80.10099792480469, 306.1199951171875, 92.13699340820312), 'lines': [{'spans': [{'size': 12.0, 'flags': 4, 'bidi': 0, 'char_flags': 16, 'font': 'SimSun', 'color': 0, 'alpha': 255, 'ascender': 0.859000027179718, 'descender': -0.14399999380111694, 'text': '第五条', 'origin': (114.0, 90.40899658203125), 'bbox': (114.0, 80.10099792480469, 150.1195526123047, 92.13699340820312)}], 'wmode': 0, 'dir': (1.0, 0.0), 'bbox': (114.0, 80.10099792480469, 150.1195526123047, 92.13699340820312)}, {'spans': [{'size': 12.0, 'flags': 4, 'bidi': 0, 'char_flags': 16, 'font': 'SimSun', 'color': 0, 'alpha': 255, 'ascender': 0.859000027179718, 'descender': -0.14399999380111694, 'text': '货物所有权转移及风险转移', 'origin': (162.1199951171875, 90.40899658203125), 'bbox': (162.1199951171875, 80.10099792480469, 306.1199951171875, 92.13699340820312)}], 'wmode': 0, 'dir': (1.0, 0.0), 'bbox': (162.1199951171875, 80.10099792480469, 306.1199951171875, 92.13699340820312)}]}\n",
      "{'number': 1, 'type': 0, 'bbox': (114.0, 103.14199829101562, 505.32000732421875, 115.17799377441406), 'lines': [{'spans': [{'size': 12.0, 'flags': 4, 'bidi': 0, 'char_flags': 16, 'font': 'SimSun', 'color': 0, 'alpha': 255, 'ascender': 0.859000027179718, 'descender': -0.14399999380111694, 'text': '货物所有权自交货之日起转移；货物毁损、灭失的风险在货物交货至交货地', 'origin': (114.0, 113.44999694824219), 'bbox': (114.0, 103.14199829101562, 505.32000732421875, 115.17799377441406)}], 'wmode': 0, 'dir': (1.0, 0.0), 'bbox': (114.0, 103.14199829101562, 505.32000732421875, 115.17799377441406)}]}\n",
      "{'number': 2, 'type': 0, 'bbox': (90.0, 126.1820068359375, 402.0, 138.21800231933594), 'lines': [{'spans': [{'size': 12.0, 'flags': 4, 'bidi': 0, 'char_flags': 16, 'font': 'SimSun', 'color': 0, 'alpha': 255, 'ascender': 0.859000027179718, 'descender': -0.14399999380111694, 'text': '点之前由出卖人承担，交货至交货地点之后由买受人承担。', 'origin': (90.0, 136.49000549316406), 'bbox': (90.0, 126.1820068359375, 402.0, 138.21800231933594)}], 'wmode': 0, 'dir': (1.0, 0.0), 'bbox': (90.0, 126.1820068359375, 402.0, 138.21800231933594)}]}\n",
      "{'number': 3, 'type': 0, 'bbox': (114.0, 149.1009979248047, 210.1199951171875, 161.13699340820312), 'lines': [{'spans': [{'size': 12.0, 'flags': 4, 'bidi': 0, 'char_flags': 16, 'font': 'SimSun', 'color': 0, 'alpha': 255, 'ascender': 0.859000027179718, 'descender': -0.14399999380111694, 'text': '第六条', 'origin': (114.0, 159.40899658203125), 'bbox': (114.0, 149.1009979248047, 150.1195526123047, 161.13699340820312)}], 'wmode': 0, 'dir': (1.0, 0.0), 'bbox': (114.0, 149.1009979248047, 150.1195526123047, 161.13699340820312)}, {'spans': [{'size': 12.0, 'flags': 4, 'bidi': 0, 'char_flags': 16, 'font': 'SimSun', 'color': 0, 'alpha': 255, 'ascender': 0.859000027179718, 'descender': -0.14399999380111694, 'text': '检验验收', 'origin': (162.1199951171875, 159.40899658203125), 'bbox': (162.1199951171875, 149.1009979248047, 210.1199951171875, 161.13699340820312)}], 'wmode': 0, 'dir': (1.0, 0.0), 'bbox': (162.1199951171875, 149.1009979248047, 210.1199951171875, 161.13699340820312)}]}\n",
      "{'number': 4, 'type': 0, 'bbox': (114.0, 172.14199829101562, 505.3190002441406, 184.17799377441406), 'lines': [{'spans': [{'size': 12.0, 'flags': 4, 'bidi': 0, 'char_flags': 16, 'font': 'SimSun', 'color': 0, 'alpha': 255, 'ascender': 0.859000027179718, 'descender': -0.14399999380111694, 'text': '6.1 买受人签署到货单、确认单等文件，仅视为对货物数量的认可，不视为', 'origin': (114.0, 182.4499969482422), 'bbox': (114.0, 172.14199829101562, 505.3190002441406, 184.17799377441406)}], 'wmode': 0, 'dir': (1.0, 0.0), 'bbox': (114.0, 172.14199829101562, 505.3190002441406, 184.17799377441406)}]}\n",
      "{'number': 5, 'type': 0, 'bbox': (90.0, 195.1820068359375, 198.0, 207.21800231933594), 'lines': [{'spans': [{'size': 12.0, 'flags': 4, 'bidi': 0, 'char_flags': 16, 'font': 'SimSun', 'color': 0, 'alpha': 255, 'ascender': 0.859000027179718, 'descender': -0.14399999380111694, 'text': '对货物质量的确认。', 'origin': (90.0, 205.49000549316406), 'bbox': (90.0, 195.1820068359375, 198.0, 207.21800231933594)}], 'wmode': 0, 'dir': (1.0, 0.0), 'bbox': (90.0, 195.1820068359375, 198.0, 207.21800231933594)}]}\n",
      "{'number': 6, 'type': 0, 'bbox': (114.0, 215.58200073242188, 505.3190002441406, 227.6179962158203), 'lines': [{'spans': [{'size': 12.0, 'flags': 4, 'bidi': 0, 'char_flags': 16, 'font': 'SimSun', 'color': 0, 'alpha': 255, 'ascender': 0.859000027179718, 'descender': -0.14399999380111694, 'text': '6.2 出卖人送货至交货地点后，买受人应在', 'origin': (114.0, 225.88999938964844), 'bbox': (114.0, 215.58200073242188, 338.15899658203125, 227.6179962158203)}], 'wmode': 0, 'dir': (1.0, 0.0), 'bbox': (114.0, 215.58200073242188, 338.15899658203125, 227.6179962158203)}, {'spans': [{'size': 12.0, 'flags': 4, 'bidi': 0, 'char_flags': 16, 'font': 'SimSun', 'color': 0, 'alpha': 255, 'ascender': 0.859000027179718, 'descender': -0.14399999380111694, 'text': '个工作日内组织验收。如有', 'origin': (362.15899658203125, 225.88999938964844), 'bbox': (362.15899658203125, 215.58200073242188, 505.3190002441406, 227.6179962158203)}], 'wmode': 0, 'dir': (1.0, 0.0), 'bbox': (362.15899658203125, 215.58200073242188, 505.3190002441406, 227.6179962158203)}]}\n",
      "{'number': 7, 'type': 0, 'bbox': (90.0, 238.50100708007812, 510.0, 250.53700256347656), 'lines': [{'spans': [{'size': 12.0, 'flags': 4, 'bidi': 0, 'char_flags': 16, 'font': 'SimSun', 'color': 0, 'alpha': 255, 'ascender': 0.859000027179718, 'descender': -0.14399999380111694, 'text': '外观质量异议及数量异议，买受人应自接到货物之日起', 'origin': (90.0, 248.8090057373047), 'bbox': (90.0, 238.50100708007812, 378.0, 250.53700256347656)}], 'wmode': 0, 'dir': (1.0, 0.0), 'bbox': (90.0, 238.50100708007812, 378.0, 250.53700256347656)}, {'spans': [{'size': 12.0, 'flags': 4, 'bidi': 0, 'char_flags': 16, 'font': 'SimSun', 'color': 0, 'alpha': 255, 'ascender': 0.859000027179718, 'descender': -0.14399999380111694, 'text': '个工作日内提出异议；', 'origin': (390.0, 248.8090057373047), 'bbox': (390.0, 238.50100708007812, 510.0, 250.53700256347656)}], 'wmode': 0, 'dir': (1.0, 0.0), 'bbox': (390.0, 238.50100708007812, 510.0, 250.53700256347656)}]}\n",
      "{'number': 8, 'type': 0, 'bbox': (90.0, 261.5419921875, 505.3190002441406, 273.5780029296875), 'lines': [{'spans': [{'size': 12.0, 'flags': 4, 'bidi': 0, 'char_flags': 16, 'font': 'SimSun', 'color': 0, 'alpha': 255, 'ascender': 0.859000027179718, 'descender': -0.14399999380111694, 'text': '如有其它质量异议，买受人应自接到货物之日起', 'origin': (90.0, 271.8500061035156), 'bbox': (90.0, 261.5419921875, 339.6000061035156, 273.5780029296875)}], 'wmode': 0, 'dir': (1.0, 0.0), 'bbox': (90.0, 261.5419921875, 339.6000061035156, 273.5780029296875)}, {'spans': [{'size': 12.0, 'flags': 4, 'bidi': 0, 'char_flags': 16, 'font': 'SimSun', 'color': 0, 'alpha': 255, 'ascender': 0.859000027179718, 'descender': -0.14399999380111694, 'text': '个工作日内提出异议。买受人', 'origin': (351.6000061035156, 271.8500061035156), 'bbox': (351.6000061035156, 261.5419921875, 505.3190002441406, 273.5780029296875)}], 'wmode': 0, 'dir': (1.0, 0.0), 'bbox': (351.6000061035156, 261.5419921875, 505.3190002441406, 273.5780029296875)}]}\n",
      "{'number': 9, 'type': 0, 'bbox': (90.0, 284.5820007324219, 505.3190002441406, 296.6180114746094), 'lines': [{'spans': [{'size': 12.0, 'flags': 4, 'bidi': 0, 'char_flags': 16, 'font': 'SimSun', 'color': 0, 'alpha': 255, 'ascender': 0.859000027179718, 'descender': -0.14399999380111694, 'text': '未按上述约定期限进行验收的，视为货物数量和质量符合约定，验收合格。出卖', 'origin': (90.0, 294.8900146484375), 'bbox': (90.0, 284.5820007324219, 505.3190002441406, 296.6180114746094)}], 'wmode': 0, 'dir': (1.0, 0.0), 'bbox': (90.0, 284.5820007324219, 505.3190002441406, 296.6180114746094)}]}\n",
      "{'number': 10, 'type': 0, 'bbox': (90.0, 307.5009765625, 505.32000732421875, 319.5369873046875), 'lines': [{'spans': [{'size': 12.0, 'flags': 4, 'bidi': 0, 'char_flags': 16, 'font': 'SimSun', 'color': 0, 'alpha': 255, 'ascender': 0.859000027179718, 'descender': -0.14399999380111694, 'text': '人应在质量验收时委派工作人员同买受人一同验收，并签字确认。如出卖人未参', 'origin': (90.0, 317.8089904785156), 'bbox': (90.0, 307.5009765625, 505.32000732421875, 319.5369873046875)}], 'wmode': 0, 'dir': (1.0, 0.0), 'bbox': (90.0, 307.5009765625, 505.32000732421875, 319.5369873046875)}]}\n",
      "{'number': 11, 'type': 0, 'bbox': (90.0, 330.5419921875, 474.0, 342.5780029296875), 'lines': [{'spans': [{'size': 12.0, 'flags': 4, 'bidi': 0, 'char_flags': 16, 'font': 'SimSun', 'color': 0, 'alpha': 255, 'ascender': 0.859000027179718, 'descender': -0.14399999380111694, 'text': '与共同验收，则视为出卖人已同意买受人单方进行验收并接受验收结果。', 'origin': (90.0, 340.8500061035156), 'bbox': (90.0, 330.5419921875, 474.0, 342.5780029296875)}], 'wmode': 0, 'dir': (1.0, 0.0), 'bbox': (90.0, 330.5419921875, 474.0, 342.5780029296875)}]}\n",
      "{'number': 12, 'type': 0, 'bbox': (114.0, 356.1009826660156, 255.0, 368.1369934082031), 'lines': [{'spans': [{'size': 12.0, 'flags': 4, 'bidi': 0, 'char_flags': 16, 'font': 'SimSun', 'color': 0, 'alpha': 255, 'ascender': 0.859000027179718, 'descender': -0.14399999380111694, 'text': '6.3 检验验收标准：', 'origin': (114.0, 366.40899658203125), 'bbox': (114.0, 356.1009826660156, 219.0, 368.1369934082031)}], 'wmode': 0, 'dir': (1.0, 0.0), 'bbox': (114.0, 356.1009826660156, 219.0, 368.1369934082031)}, {'spans': [{'size': 12.0, 'flags': 4, 'bidi': 0, 'char_flags': 16, 'font': 'SimSun', 'color': 0, 'alpha': 255, 'ascender': 0.859000027179718, 'descender': -0.14399999380111694, 'text': '。', 'origin': (243.0, 366.40899658203125), 'bbox': (243.0, 356.1009826660156, 255.0, 368.1369934082031)}], 'wmode': 0, 'dir': (1.0, 0.0), 'bbox': (243.0, 356.1009826660156, 255.0, 368.1369934082031)}]}\n",
      "{'number': 13, 'type': 0, 'bbox': (255.0, 355.1360168457031, 261.0, 361.1540222167969), 'lines': [{'spans': [{'size': 6.0, 'flags': 4, 'bidi': 0, 'char_flags': 16, 'font': 'SimSun', 'color': 0, 'alpha': 255, 'ascender': 0.859000027179718, 'descender': -0.14399999380111694, 'text': '11', 'origin': (255.0, 360.2900085449219), 'bbox': (255.0, 355.1360168457031, 261.0, 361.1540222167969)}], 'wmode': 0, 'dir': (1.0, 0.0), 'bbox': (255.0, 355.1360168457031, 261.0, 361.1540222167969)}]}\n",
      "{'number': 14, 'type': 0, 'bbox': (114.0, 379.1419982910156, 505.3190002441406, 391.1780090332031), 'lines': [{'spans': [{'size': 12.0, 'flags': 4, 'bidi': 0, 'char_flags': 16, 'font': 'SimSun', 'color': 0, 'alpha': 255, 'ascender': 0.859000027179718, 'descender': -0.14399999380111694, 'text': '6.4 出卖人提供的货物不符合检验验收标准的，由出卖人自费负责更换、修', 'origin': (114.0, 389.45001220703125), 'bbox': (114.0, 379.1419982910156, 505.3190002441406, 391.1780090332031)}], 'wmode': 0, 'dir': (1.0, 0.0), 'bbox': (114.0, 379.1419982910156, 505.3190002441406, 391.1780090332031)}]}\n",
      "{'number': 15, 'type': 0, 'bbox': (90.0, 402.1819763183594, 505.32000732421875, 414.2179870605469), 'lines': [{'spans': [{'size': 12.0, 'flags': 4, 'bidi': 0, 'char_flags': 16, 'font': 'SimSun', 'color': 0, 'alpha': 255, 'ascender': 0.859000027179718, 'descender': -0.14399999380111694, 'text': '理或补充，直至经买受人检验验收合格。在此种情况下，如经买受人验收合格的', 'origin': (90.0, 412.489990234375), 'bbox': (90.0, 402.1819763183594, 505.32000732421875, 414.2179870605469)}], 'wmode': 0, 'dir': (1.0, 0.0), 'bbox': (90.0, 402.1819763183594, 505.32000732421875, 414.2179870605469)}]}\n",
      "{'number': 16, 'type': 0, 'bbox': (90.0, 425.1009826660156, 414.0, 437.1369934082031), 'lines': [{'spans': [{'size': 12.0, 'flags': 4, 'bidi': 0, 'char_flags': 16, 'font': 'SimSun', 'color': 0, 'alpha': 255, 'ascender': 0.859000027179718, 'descender': -0.14399999380111694, 'text': '时间超过本合同约定的交货期的，视为出卖人逾期交付货物。', 'origin': (90.0, 435.40899658203125), 'bbox': (90.0, 425.1009826660156, 414.0, 437.1369934082031)}], 'wmode': 0, 'dir': (1.0, 0.0), 'bbox': (90.0, 425.1009826660156, 414.0, 437.1369934082031)}]}\n",
      "{'number': 17, 'type': 0, 'bbox': (114.0, 448.1419982910156, 505.32000732421875, 460.1780090332031), 'lines': [{'spans': [{'size': 12.0, 'flags': 4, 'bidi': 0, 'char_flags': 16, 'font': 'SimSun', 'color': 0, 'alpha': 255, 'ascender': 0.859000027179718, 'descender': -0.14399999380111694, 'text': '6.5 如果货物按本合同约定的检验验收标准的规定更换、修理或补充后仍未', 'origin': (114.0, 458.45001220703125), 'bbox': (114.0, 448.1419982910156, 505.32000732421875, 460.1780090332031)}], 'wmode': 0, 'dir': (1.0, 0.0), 'bbox': (114.0, 448.1419982910156, 505.32000732421875, 460.1780090332031)}]}\n",
      "{'number': 18, 'type': 0, 'bbox': (90.0, 471.1819763183594, 505.3133544921875, 483.2179870605469), 'lines': [{'spans': [{'size': 12.0, 'flags': 4, 'bidi': 0, 'char_flags': 16, 'font': 'SimSun', 'color': 0, 'alpha': 255, 'ascender': 0.859000027179718, 'descender': -0.14399999380111694, 'text': '达到或不可能达到本合同约定的检验验收标准的，则视为出卖人不能交付该货', 'origin': (90.0, 481.489990234375), 'bbox': (90.0, 471.1819763183594, 505.3133544921875, 483.2179870605469)}], 'wmode': 0, 'dir': (1.0, 0.0), 'bbox': (90.0, 471.1819763183594, 505.3133544921875, 483.2179870605469)}]}\n",
      "{'number': 19, 'type': 0, 'bbox': (90.0, 494.1009826660156, 114.0, 506.1369934082031), 'lines': [{'spans': [{'size': 12.0, 'flags': 4, 'bidi': 0, 'char_flags': 16, 'font': 'SimSun', 'color': 0, 'alpha': 255, 'ascender': 0.859000027179718, 'descender': -0.14399999380111694, 'text': '物。', 'origin': (90.0, 504.40899658203125), 'bbox': (90.0, 494.1009826660156, 114.0, 506.1369934082031)}], 'wmode': 0, 'dir': (1.0, 0.0), 'bbox': (90.0, 494.1009826660156, 114.0, 506.1369934082031)}]}\n",
      "{'number': 20, 'type': 0, 'bbox': (114.0, 517.1420288085938, 210.1199951171875, 529.1780395507812), 'lines': [{'spans': [{'size': 12.0, 'flags': 4, 'bidi': 0, 'char_flags': 16, 'font': 'SimSun', 'color': 0, 'alpha': 255, 'ascender': 0.859000027179718, 'descender': -0.14399999380111694, 'text': '第七条', 'origin': (114.0, 527.4500122070312), 'bbox': (114.0, 517.1420288085938, 150.1195526123047, 529.1780395507812)}], 'wmode': 0, 'dir': (1.0, 0.0), 'bbox': (114.0, 517.1420288085938, 150.1195526123047, 529.1780395507812)}, {'spans': [{'size': 12.0, 'flags': 4, 'bidi': 0, 'char_flags': 16, 'font': 'SimSun', 'color': 0, 'alpha': 255, 'ascender': 0.859000027179718, 'descender': -0.14399999380111694, 'text': '包装条款', 'origin': (162.1199951171875, 527.4500122070312), 'bbox': (162.1199951171875, 517.1420288085938, 210.1199951171875, 529.1780395507812)}], 'wmode': 0, 'dir': (1.0, 0.0), 'bbox': (162.1199951171875, 517.1420288085938, 210.1199951171875, 529.1780395507812)}]}\n",
      "{'number': 21, 'type': 0, 'bbox': (114.0, 540.1820068359375, 505.32000732421875, 552.218017578125), 'lines': [{'spans': [{'size': 12.0, 'flags': 4, 'bidi': 0, 'char_flags': 16, 'font': 'SimSun', 'color': 0, 'alpha': 255, 'ascender': 0.859000027179718, 'descender': -0.14399999380111694, 'text': '7.1 出卖人负责免费包装，出卖人应对提供货物按照国家规定标准或有利于', 'origin': (114.0, 550.489990234375), 'bbox': (114.0, 540.1820068359375, 505.32000732421875, 552.218017578125)}], 'wmode': 0, 'dir': (1.0, 0.0), 'bbox': (114.0, 540.1820068359375, 505.32000732421875, 552.218017578125)}]}\n",
      "{'number': 22, 'type': 0, 'bbox': (90.0, 563.1010131835938, 505.32000732421875, 575.1370239257812), 'lines': [{'spans': [{'size': 12.0, 'flags': 4, 'bidi': 0, 'char_flags': 16, 'font': 'SimSun', 'color': 0, 'alpha': 255, 'ascender': 0.859000027179718, 'descender': -0.14399999380111694, 'text': '保护货物的措施进行包装，由于出卖人包装不善所引起的货物毁损均由出卖人承', 'origin': (90.0, 573.4089965820312), 'bbox': (90.0, 563.1010131835938, 505.32000732421875, 575.1370239257812)}], 'wmode': 0, 'dir': (1.0, 0.0), 'bbox': (90.0, 563.1010131835938, 505.32000732421875, 575.1370239257812)}]}\n",
      "{'number': 23, 'type': 0, 'bbox': (90.0, 586.1420288085938, 288.0, 598.1780395507812), 'lines': [{'spans': [{'size': 12.0, 'flags': 4, 'bidi': 0, 'char_flags': 16, 'font': 'SimSun', 'color': 0, 'alpha': 255, 'ascender': 0.859000027179718, 'descender': -0.14399999380111694, 'text': '担,买受人有权拒收包装物毁损货物。', 'origin': (90.0, 596.4500122070312), 'bbox': (90.0, 586.1420288085938, 288.0, 598.1780395507812)}], 'wmode': 0, 'dir': (1.0, 0.0), 'bbox': (90.0, 586.1420288085938, 288.0, 598.1780395507812)}]}\n",
      "{'number': 24, 'type': 0, 'bbox': (114.0, 609.1820068359375, 511.3190002441406, 621.218017578125), 'lines': [{'spans': [{'size': 12.0, 'flags': 4, 'bidi': 0, 'char_flags': 16, 'font': 'SimSun', 'color': 0, 'alpha': 255, 'ascender': 0.859000027179718, 'descender': -0.14399999380111694, 'text': '7.2 除达到以上要求，买受人有如下包装需求：', 'origin': (114.0, 619.489990234375), 'bbox': (114.0, 609.1820068359375, 362.15899658203125, 621.218017578125)}], 'wmode': 0, 'dir': (1.0, 0.0), 'bbox': (114.0, 609.1820068359375, 362.15899658203125, 621.218017578125)}, {'spans': [{'size': 12.0, 'flags': 4, 'bidi': 0, 'char_flags': 16, 'font': 'SimSun', 'color': 0, 'alpha': 255, 'ascender': 0.859000027179718, 'descender': -0.14399999380111694, 'text': '。', 'origin': (499.3190002441406, 619.489990234375), 'bbox': (499.3190002441406, 609.1820068359375, 511.3190002441406, 621.218017578125)}], 'wmode': 0, 'dir': (1.0, 0.0), 'bbox': (499.3190002441406, 609.1820068359375, 511.3190002441406, 621.218017578125)}]}\n",
      "{'number': 25, 'type': 0, 'bbox': (114.0, 632.1010131835938, 387.0, 644.1370239257812), 'lines': [{'spans': [{'size': 12.0, 'flags': 4, 'bidi': 0, 'char_flags': 16, 'font': 'SimSun', 'color': 0, 'alpha': 255, 'ascender': 0.859000027179718, 'descender': -0.14399999380111694, 'text': '7.3 出卖人提供的货物包装物按照', 'origin': (114.0, 642.4089965820312), 'bbox': (114.0, 632.1010131835938, 291.0, 644.1370239257812)}], 'wmode': 0, 'dir': (1.0, 0.0), 'bbox': (114.0, 632.1010131835938, 291.0, 644.1370239257812)}, {'spans': [{'size': 12.0, 'flags': 4, 'bidi': 0, 'char_flags': 16, 'font': 'SimSun', 'color': 0, 'alpha': 255, 'ascender': 0.859000027179718, 'descender': -0.14399999380111694, 'text': '项方式处理：', 'origin': (315.0, 642.4089965820312), 'bbox': (315.0, 632.1010131835938, 387.0, 644.1370239257812)}], 'wmode': 0, 'dir': (1.0, 0.0), 'bbox': (315.0, 632.1010131835938, 387.0, 644.1370239257812)}]}\n",
      "{'number': 26, 'type': 0, 'bbox': (114.0, 655.1420288085938, 276.0, 667.1780395507812), 'lines': [{'spans': [{'size': 12.0, 'flags': 4, 'bidi': 0, 'char_flags': 16, 'font': 'SimSun', 'color': 0, 'alpha': 255, 'ascender': 0.859000027179718, 'descender': -0.14399999380111694, 'text': '（1）不回收，归买受人所有。', 'origin': (114.0, 665.4500122070312), 'bbox': (114.0, 655.1420288085938, 276.0, 667.1780395507812)}], 'wmode': 0, 'dir': (1.0, 0.0), 'bbox': (114.0, 655.1420288085938, 276.0, 667.1780395507812)}]}\n",
      "{'number': 27, 'type': 0, 'bbox': (114.0, 678.1820068359375, 312.0, 690.218017578125), 'lines': [{'spans': [{'size': 12.0, 'flags': 4, 'bidi': 0, 'char_flags': 16, 'font': 'SimSun', 'color': 0, 'alpha': 255, 'ascender': 0.859000027179718, 'descender': -0.14399999380111694, 'text': '（2）回收，回收费用由出卖人承担。', 'origin': (114.0, 688.489990234375), 'bbox': (114.0, 678.1820068359375, 312.0, 690.218017578125)}], 'wmode': 0, 'dir': (1.0, 0.0), 'bbox': (114.0, 678.1820068359375, 312.0, 690.218017578125)}]}\n",
      "{'number': 28, 'type': 0, 'bbox': (114.0, 701.1010131835938, 511.3190002441406, 713.1370239257812), 'lines': [{'spans': [{'size': 12.0, 'flags': 4, 'bidi': 0, 'char_flags': 16, 'font': 'SimSun', 'color': 0, 'alpha': 255, 'ascender': 0.859000027179718, 'descender': -0.14399999380111694, 'text': '（3）其他方式：', 'origin': (114.0, 711.4089965820312), 'bbox': (114.0, 701.1010131835938, 204.0, 713.1370239257812)}], 'wmode': 0, 'dir': (1.0, 0.0), 'bbox': (114.0, 701.1010131835938, 204.0, 713.1370239257812)}, {'spans': [{'size': 12.0, 'flags': 4, 'bidi': 0, 'char_flags': 16, 'font': 'SimSun', 'color': 0, 'alpha': 255, 'ascender': 0.859000027179718, 'descender': -0.14399999380111694, 'text': '。', 'origin': (499.3190002441406, 711.4089965820312), 'bbox': (499.3190002441406, 701.1010131835938, 511.3190002441406, 713.1370239257812)}], 'wmode': 0, 'dir': (1.0, 0.0), 'bbox': (499.3190002441406, 701.1010131835938, 511.3190002441406, 713.1370239257812)}]}\n",
      "{'number': 29, 'type': 0, 'bbox': (114.0, 724.1420288085938, 210.1199951171875, 736.1780395507812), 'lines': [{'spans': [{'size': 12.0, 'flags': 4, 'bidi': 0, 'char_flags': 16, 'font': 'SimSun', 'color': 0, 'alpha': 255, 'ascender': 0.859000027179718, 'descender': -0.14399999380111694, 'text': '第八条', 'origin': (114.0, 734.4500122070312), 'bbox': (114.0, 724.1420288085938, 150.1195526123047, 736.1780395507812)}], 'wmode': 0, 'dir': (1.0, 0.0), 'bbox': (114.0, 724.1420288085938, 150.1195526123047, 736.1780395507812)}, {'spans': [{'size': 12.0, 'flags': 4, 'bidi': 0, 'char_flags': 16, 'font': 'SimSun', 'color': 0, 'alpha': 255, 'ascender': 0.859000027179718, 'descender': -0.14399999380111694, 'text': '知识产权', 'origin': (162.1199951171875, 734.4500122070312), 'bbox': (162.1199951171875, 724.1420288085938, 210.1199951171875, 736.1780395507812)}], 'wmode': 0, 'dir': (1.0, 0.0), 'bbox': (162.1199951171875, 724.1420288085938, 210.1199951171875, 736.1780395507812)}]}\n",
      "{'number': 30, 'type': 0, 'bbox': (90.0, 754.9190063476562, 333.0, 768.6260375976562), 'lines': [{'spans': [{'size': 4.450000286102295, 'flags': 4, 'bidi': 0, 'char_flags': 16, 'font': 'SimSun', 'color': 0, 'alpha': 255, 'ascender': 0.859000027179718, 'descender': -0.14399999380111694, 'text': '11', 'origin': (90.0, 762.6500244140625), 'bbox': (90.0, 758.8274536132812, 94.50469970703125, 763.2908325195312)}, {'size': 9.0, 'flags': 4, 'bidi': 0, 'char_flags': 16, 'font': 'SimSun', 'color': 0, 'alpha': 255, 'ascender': 0.859000027179718, 'descender': -0.14399999380111694, 'text': ' 检验验收标准必须填写，应与合同约定的质量要求相对应。', 'origin': (94.50469970703125, 762.6500244140625), 'bbox': (94.50469970703125, 754.9190063476562, 333.0, 768.6260375976562)}], 'wmode': 0, 'dir': (1.0, 0.0), 'bbox': (90.0, 754.9190063476562, 333.0, 768.6260375976562)}]}\n"
     ]
    }
   ],
   "source": [
    "\n",
    "blocks = pages[17].get_text(\"dict\")[\"blocks\"]\n",
    "for b in blocks:\n",
    "    print(b)"
   ]
  },
  {
   "cell_type": "code",
   "execution_count": 30,
   "metadata": {},
   "outputs": [
    {
     "name": "stdout",
     "output_type": "stream",
     "text": [
      "{'items': [('l', Point(338.1499938964844, 227.14999389648438), Point(362.1499938964844, 227.14999389648438))], 'type': 's', 'stroke_opacity': 1.0, 'color': (0.0, 0.0, 0.0), 'width': 0.6000000238418579, 'lineCap': (0, 0, 0), 'lineJoin': 2.0, 'closePath': False, 'dashes': '[] 0', 'rect': Rect(338.1499938964844, 227.14999389648438, 362.1499938964844, 227.14999389648438), 'layer': '', 'seqno': 25, 'fill': None, 'fill_opacity': None, 'even_odd': None}\n",
      "{'items': [('l', Point(378.0, 250.1999969482422), Point(390.0, 250.1999969482422))], 'type': 's', 'stroke_opacity': 1.0, 'color': (0.0, 0.0, 0.0), 'width': 0.6000000238418579, 'lineCap': (0, 0, 0), 'lineJoin': 2.0, 'closePath': False, 'dashes': '[] 0', 'rect': Rect(378.0, 250.1999969482422, 390.0, 250.1999969482422), 'layer': '', 'seqno': 30, 'fill': None, 'fill_opacity': None, 'even_odd': None}\n",
      "{'items': [('l', Point(339.6000061035156, 273.20001220703125), Point(351.6000061035156, 273.20001220703125))], 'type': 's', 'stroke_opacity': 1.0, 'color': (0.0, 0.0, 0.0), 'width': 0.6000000238418579, 'lineCap': (0, 0, 0), 'lineJoin': 2.0, 'closePath': False, 'dashes': '[] 0', 'rect': Rect(339.6000061035156, 273.20001220703125, 351.6000061035156, 273.20001220703125), 'layer': '', 'seqno': 36, 'fill': None, 'fill_opacity': None, 'even_odd': None}\n",
      "{'items': [('l', Point(219.0, 367.79998779296875), Point(243.0, 367.79998779296875))], 'type': 's', 'stroke_opacity': 1.0, 'color': (0.0, 0.0, 0.0), 'width': 0.6000000238418579, 'lineCap': (0, 0, 0), 'lineJoin': 2.0, 'closePath': False, 'dashes': '[] 0', 'rect': Rect(219.0, 367.79998779296875, 243.0, 367.79998779296875), 'layer': '', 'seqno': 55, 'fill': None, 'fill_opacity': None, 'even_odd': None}\n",
      "{'items': [('l', Point(361.29998779296875, 620.75), Point(499.29998779296875, 620.75))], 'type': 's', 'stroke_opacity': 1.0, 'color': (0.0, 0.0, 0.0), 'width': 0.6000000238418579, 'lineCap': (0, 0, 0), 'lineJoin': 2.0, 'closePath': False, 'dashes': '[] 0', 'rect': Rect(361.29998779296875, 620.75, 499.29998779296875, 620.75), 'layer': '', 'seqno': 96, 'fill': None, 'fill_opacity': None, 'even_odd': None}\n",
      "{'items': [('l', Point(291.0, 643.7999877929688), Point(315.0, 643.7999877929688))], 'type': 's', 'stroke_opacity': 1.0, 'color': (0.0, 0.0, 0.0), 'width': 0.6000000238418579, 'lineCap': (0, 0, 0), 'lineJoin': 2.0, 'closePath': False, 'dashes': '[] 0', 'rect': Rect(291.0, 643.7999877929688, 315.0, 643.7999877929688), 'layer': '', 'seqno': 100, 'fill': None, 'fill_opacity': None, 'even_odd': None}\n",
      "{'items': [('l', Point(199.3000030517578, 712.7999877929688), Point(499.29998779296875, 712.7999877929688))], 'type': 's', 'stroke_opacity': 1.0, 'color': (0.0, 0.0, 0.0), 'width': 0.6000000238418579, 'lineCap': (0, 0, 0), 'lineJoin': 2.0, 'closePath': False, 'dashes': '[] 0', 'rect': Rect(199.3000030517578, 712.7999877929688, 499.29998779296875, 712.7999877929688), 'layer': '', 'seqno': 115, 'fill': None, 'fill_opacity': None, 'even_odd': None}\n",
      "{'items': [('l', Point(90.0, 752.1500244140625), Point(234.0, 752.1500244140625))], 'type': 's', 'stroke_opacity': 1.0, 'color': (0.0, 0.0, 0.0), 'width': 0.3431999981403351, 'lineCap': (2, 2, 2), 'lineJoin': 2.0, 'closePath': False, 'dashes': '[] 0', 'rect': Rect(90.0, 752.1500244140625, 234.0, 752.1500244140625), 'layer': '', 'seqno': 120, 'fill': None, 'fill_opacity': None, 'even_odd': None}\n"
     ]
    }
   ],
   "source": [
    "drawings = pages[17].get_drawings()\n",
    "\n",
    "for drawing in drawings:\n",
    "    print(drawing)"
   ]
  },
  {
   "cell_type": "code",
   "execution_count": 29,
   "metadata": {},
   "outputs": [
    {
     "data": {
      "text/plain": [
       "{'items': [('l',\n",
       "   Point(338.1499938964844, 227.14999389648438),\n",
       "   Point(362.1499938964844, 227.14999389648438))],\n",
       " 'type': 's',\n",
       " 'stroke_opacity': 1.0,\n",
       " 'color': (0.0, 0.0, 0.0),\n",
       " 'width': 0.6000000238418579,\n",
       " 'lineCap': (0, 0, 0),\n",
       " 'lineJoin': 2.0,\n",
       " 'closePath': False,\n",
       " 'dashes': '[] 0',\n",
       " 'rect': Rect(338.1499938964844, 227.14999389648438, 362.1499938964844, 227.14999389648438),\n",
       " 'layer': '',\n",
       " 'seqno': 25,\n",
       " 'fill': None,\n",
       " 'fill_opacity': None,\n",
       " 'even_odd': None}"
      ]
     },
     "execution_count": 29,
     "metadata": {},
     "output_type": "execute_result"
    }
   ],
   "source": [
    "drawing"
   ]
  },
  {
   "cell_type": "code",
   "execution_count": 14,
   "metadata": {},
   "outputs": [
    {
     "data": {
      "text/plain": [
       "[{'spans': [{'size': 12.0,\n",
       "    'flags': 4,\n",
       "    'bidi': 0,\n",
       "    'char_flags': 16,\n",
       "    'font': 'SimSun',\n",
       "    'color': 0,\n",
       "    'alpha': 255,\n",
       "    'ascender': 0.859000027179718,\n",
       "    'descender': -0.14399999380111694,\n",
       "    'text': '6.3 检验验收标准：',\n",
       "    'origin': (114.0, 366.40899658203125),\n",
       "    'bbox': (114.0, 356.1009826660156, 219.0, 368.1369934082031)}],\n",
       "  'wmode': 0,\n",
       "  'dir': (1.0, 0.0),\n",
       "  'bbox': (114.0, 356.1009826660156, 219.0, 368.1369934082031)},\n",
       " {'spans': [{'size': 12.0,\n",
       "    'flags': 4,\n",
       "    'bidi': 0,\n",
       "    'char_flags': 16,\n",
       "    'font': 'SimSun',\n",
       "    'color': 0,\n",
       "    'alpha': 255,\n",
       "    'ascender': 0.859000027179718,\n",
       "    'descender': -0.14399999380111694,\n",
       "    'text': '。',\n",
       "    'origin': (243.0, 366.40899658203125),\n",
       "    'bbox': (243.0, 356.1009826660156, 255.0, 368.1369934082031)}],\n",
       "  'wmode': 0,\n",
       "  'dir': (1.0, 0.0),\n",
       "  'bbox': (243.0, 356.1009826660156, 255.0, 368.1369934082031)}]"
      ]
     },
     "execution_count": 14,
     "metadata": {},
     "output_type": "execute_result"
    }
   ],
   "source": [
    "\n",
    "blocks[12]['lines']"
   ]
  },
  {
   "cell_type": "code",
   "execution_count": null,
   "metadata": {},
   "outputs": [],
   "source": [
    "# How to extract style info from underlined text (like \"6.3 检验验收标准：______。\")\n",
    "\n",
    "def extract_style_from_underlined_text(blocks, drawings, block_num=12):\n",
    "    \"\"\"\n",
    "    Extract style information from text blocks containing underlined blank spaces\n",
    "    \n",
    "    Args:\n",
    "        blocks: PyMuPDF text blocks from page.get_text(\"dict\")[\"blocks\"]\n",
    "        drawings: PyMuPDF drawings from page.get_drawings()\n",
    "        block_num: Block number to analyze (default 12 for your example)\n",
    "    \"\"\"\n",
    "    \n",
    "    # Get the specific block\n",
    "    block = blocks[block_num]\n",
    "    \n",
    "    print(f\"=== ANALYZING BLOCK {block_num} ===\")\n",
    "    \n",
    "    # Extract text spans with style information\n",
    "    spans_with_style = []\n",
    "    for line in block['lines']:\n",
    "        for span in line['spans']:\n",
    "            style_info = {\n",
    "                'text': span['text'],\n",
    "                'font': span['font'],\n",
    "                'size': span['size'],\n",
    "                'flags': span['flags'],\n",
    "                'bold': bool(span['flags'] & 16),\n",
    "                'italic': bool(span['flags'] & 64),\n",
    "                'color': span['color'],\n",
    "                'bbox': span['bbox'],\n",
    "                'x_start': span['bbox'][0],\n",
    "                'x_end': span['bbox'][2]\n",
    "            }\n",
    "            spans_with_style.append(style_info)\n",
    "            \n",
    "            print(f\"Text: '{span['text']}'\")\n",
    "            print(f\"  Font: {span['font']}, Size: {span['size']}pt\")\n",
    "            print(f\"  Bold: {style_info['bold']}, Italic: {style_info['italic']}\")\n",
    "            print(f\"  Position: {span['bbox']}\")\n",
    "    \n",
    "    # Find associated underlines\n",
    "    print(\"\\n=== UNDERLINE ANALYSIS ===\")\n",
    "    block_bbox = block['bbox']\n",
    "    associated_underlines = []\n",
    "    \n",
    "    for i, drawing in enumerate(drawings):\n",
    "        if drawing.get('type') == 's':  # Stroke/line drawing\n",
    "            for item in drawing.get('items', []):\n",
    "                if len(item) >= 3 and item[0] == 'l':  # Line item\n",
    "                    start_x, start_y = item[1].x, item[1].y\n",
    "                    end_x, end_y = item[2].x, item[2].y\n",
    "                    \n",
    "                    # Check if underline is near this block\n",
    "                    if (block_bbox[1] - 10 <= start_y <= block_bbox[3] + 10 and\n",
    "                        block_bbox[0] - 10 <= start_x <= block_bbox[2] + 50):\n",
    "                        \n",
    "                        underline_info = {\n",
    "                            'start': (start_x, start_y),\n",
    "                            'end': (end_x, end_y),\n",
    "                            'length': abs(end_x - start_x),\n",
    "                            'width': drawing.get('width', 0)\n",
    "                        }\n",
    "                        associated_underlines.append(underline_info)\n",
    "                        \n",
    "                        print(f\"Underline: ({start_x:.1f}, {start_y:.1f}) -> ({end_x:.1f}, {end_y:.1f})\")\n",
    "                        print(f\"  Length: {underline_info['length']:.1f}pt, Width: {underline_info['width']}pt\")\n",
    "    \n",
    "    # Reconstruct text with blanks\n",
    "    print(\"\\n=== TEXT RECONSTRUCTION ===\")\n",
    "    \n",
    "    # Sort spans by position\n",
    "    spans_with_style.sort(key=lambda x: x['x_start'])\n",
    "    \n",
    "    reconstructed_parts = []\n",
    "    for i, span in enumerate(spans_with_style):\n",
    "        reconstructed_parts.append(span['text'])\n",
    "        \n",
    "        # Check for underlines between spans\n",
    "        span_end = span['x_end']\n",
    "        next_span_start = spans_with_style[i+1]['x_start'] if i+1 < len(spans_with_style) else float('inf')\n",
    "        \n",
    "        for underline in associated_underlines:\n",
    "            underline_start = underline['start'][0]\n",
    "            \n",
    "            if span_end <= underline_start < next_span_start:\n",
    "                # Estimate number of characters for the blank\n",
    "                char_width = 8  # Approximate character width in points\n",
    "                num_chars = max(int(underline['length'] / char_width), 6)\n",
    "                reconstructed_parts.append('_' * num_chars)\n",
    "                break\n",
    "    \n",
    "    reconstructed_text = ''.join(reconstructed_parts)\n",
    "    print(f\"Original spans: {[s['text'] for s in spans_with_style]}\")\n",
    "    print(f\"Reconstructed: '{reconstructed_text}'\")\n",
    "    \n",
    "    return {\n",
    "        'spans_with_style': spans_with_style,\n",
    "        'underlines': associated_underlines,\n",
    "        'reconstructed_text': reconstructed_text\n",
    "    }\n",
    "\n",
    "# Usage example\n",
    "result = extract_style_from_underlined_text(blocks, drawings, 12)\n"
   ]
  },
  {
   "cell_type": "code",
   "execution_count": null,
   "metadata": {},
   "outputs": [],
   "source": []
  }
 ],
 "metadata": {
  "kernelspec": {
   "display_name": ".venv",
   "language": "python",
   "name": "python3"
  },
  "language_info": {
   "codemirror_mode": {
    "name": "ipython",
    "version": 3
   },
   "file_extension": ".py",
   "mimetype": "text/x-python",
   "name": "python",
   "nbconvert_exporter": "python",
   "pygments_lexer": "ipython3",
   "version": "3.10.18"
  }
 },
 "nbformat": 4,
 "nbformat_minor": 2
}
